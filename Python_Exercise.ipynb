{
  "nbformat": 4,
  "nbformat_minor": 0,
  "metadata": {
    "colab": {
      "provenance": [],
      "authorship_tag": "ABX9TyNZQZ3o5FLwqLV7S3vQufjs",
      "include_colab_link": true
    },
    "kernelspec": {
      "name": "python3",
      "display_name": "Python 3"
    },
    "language_info": {
      "name": "python"
    }
  },
  "cells": [
    {
      "cell_type": "markdown",
      "metadata": {
        "id": "view-in-github",
        "colab_type": "text"
      },
      "source": [
        "<a href=\"https://colab.research.google.com/github/dewcxiv/Test_2025/blob/main/Python_Exercise.ipynb\" target=\"_parent\"><img src=\"https://colab.research.google.com/assets/colab-badge.svg\" alt=\"Open In Colab\"/></a>"
      ]
    },
    {
      "cell_type": "markdown",
      "source": [
        "These exercise cover **loops, functions, conditionals, string manipulation, and randomness** all important for Python learning!"
      ],
      "metadata": {
        "id": "6Iw2QlKTvJqz"
      }
    },
    {
      "cell_type": "markdown",
      "source": [
        "**Exercise 1: FizzBuzz Challenge**\n",
        "\n",
        "- If the number is divisible by 3, print \"Fizz\" instead.\n",
        "- If the number is divisible by 5, print \"Buzz\" instead.\n",
        "- If the number is divisible by both 3 and 5, print \"FizzBuzz\"."
      ],
      "metadata": {
        "id": "6cb0iJz-Aqld"
      }
    },
    {
      "cell_type": "code",
      "source": [
        "for i in range(1, 31):\n",
        "  if i % 3 == 0 and i % 5 == 0:\n",
        "    print(\"FizzBuzz\")\n",
        "  elif i % 3 == 0:\n",
        "    print(\"Fizz\")\n",
        "  elif i % 5 == 0:\n",
        "    print(\"Buzz\")\n",
        "  else:\n",
        "    print(i)"
      ],
      "metadata": {
        "colab": {
          "base_uri": "https://localhost:8080/"
        },
        "id": "aWgBwIa_B_1j",
        "outputId": "aae05dd6-9224-4876-ea8c-ed9c95656ccc"
      },
      "execution_count": null,
      "outputs": [
        {
          "output_type": "stream",
          "name": "stdout",
          "text": [
            "Buzz\n",
            "56\n",
            "Fizz\n",
            "58\n",
            "59\n",
            "FizzBuzz\n",
            "61\n",
            "62\n",
            "Fizz\n",
            "64\n",
            "Buzz\n",
            "Fizz\n",
            "67\n",
            "68\n",
            "Fizz\n",
            "Buzz\n",
            "71\n",
            "Fizz\n",
            "73\n",
            "74\n",
            "FizzBuzz\n",
            "76\n",
            "77\n",
            "Fizz\n",
            "79\n",
            "Buzz\n",
            "Fizz\n",
            "82\n",
            "83\n",
            "Fizz\n",
            "Buzz\n",
            "86\n",
            "Fizz\n",
            "88\n",
            "89\n",
            "FizzBuzz\n",
            "91\n",
            "92\n",
            "Fizz\n",
            "94\n",
            "Buzz\n",
            "Fizz\n",
            "97\n",
            "98\n",
            "Fizz\n"
          ]
        }
      ]
    },
    {
      "cell_type": "markdown",
      "source": [
        "**Excercise 2: Guess The Number Game**\n",
        "- Create a simple game where the user has to guess a random number between 1 and 20"
      ],
      "metadata": {
        "id": "OhEG-9lXPhow"
      }
    },
    {
      "cell_type": "code",
      "source": [
        "import random\n",
        "\n",
        "secret_number = random.randint(1, 20)\n",
        "attempts = 0\n",
        "\n",
        "while True:\n",
        "    guess = int(input(\"Guess a number between 1 and 20: \"))\n",
        "    attempts += 1\n",
        "\n",
        "    if guess < secret_number:\n",
        "        print(\"Too low! Try again.\")\n",
        "    elif guess > secret_number:\n",
        "        print(\"Too high! Try again.\")\n",
        "    else:\n",
        "        print(f\"Congratulations! You guessed it in {attempts} attempts.\")\n",
        "        break"
      ],
      "metadata": {
        "colab": {
          "base_uri": "https://localhost:8080/"
        },
        "id": "_W405cMHDvx8",
        "outputId": "b41872f9-87e1-4188-b9da-f4c37d538a5f"
      },
      "execution_count": null,
      "outputs": [
        {
          "output_type": "stream",
          "name": "stdout",
          "text": [
            "Guess a number between 1 and 20: 21\n",
            "Too high! Try again.\n",
            "Guess a number between 1 and 20: 25\n",
            "Too high! Try again.\n",
            "Guess a number between 1 and 20: 5\n",
            "Too low! Try again.\n",
            "Guess a number between 1 and 20: 17\n",
            "Too high! Try again.\n",
            "Guess a number between 1 and 20: 10\n",
            "Too low! Try again.\n",
            "Guess a number between 1 and 20: 12\n",
            "Too high! Try again.\n",
            "Guess a number between 1 and 20: 11\n",
            "Congratulations! You guessed it in 7 attempts.\n"
          ]
        }
      ]
    },
    {
      "cell_type": "markdown",
      "source": [
        "**Exercise 3: Check for Palindrome**\n",
        "- A Palindrome is a word that reads the same forwards and backwards (e.g., \"racecar\", \"madam\"."
      ],
      "metadata": {
        "id": "9COPKWL6xOO1"
      }
    },
    {
      "cell_type": "code",
      "source": [
        "def is_palindrome(word):\n",
        "  return word == word[::-1]"
      ],
      "metadata": {
        "id": "7u1T_RYSxnQZ"
      },
      "execution_count": null,
      "outputs": []
    },
    {
      "cell_type": "code",
      "source": [
        "print(is_palindrome(\"racecar\")) #true\n",
        "print(is_palindrome(\"hello\")) #false"
      ],
      "metadata": {
        "colab": {
          "base_uri": "https://localhost:8080/"
        },
        "id": "6JEuxwz0yIE8",
        "outputId": "09071f41-a703-42aa-f263-001b9659bde9"
      },
      "execution_count": null,
      "outputs": [
        {
          "output_type": "stream",
          "name": "stdout",
          "text": [
            "True\n",
            "False\n"
          ]
        }
      ]
    },
    {
      "cell_type": "code",
      "source": [
        "print(is_palindrome(\"madam\"))"
      ],
      "metadata": {
        "colab": {
          "base_uri": "https://localhost:8080/"
        },
        "id": "njlHShX9yrvj",
        "outputId": "ffc95243-764d-4119-d07b-5aa9e55d75a7"
      },
      "execution_count": null,
      "outputs": [
        {
          "output_type": "stream",
          "name": "stdout",
          "text": [
            "True\n"
          ]
        }
      ]
    },
    {
      "cell_type": "code",
      "source": [
        "def is_palindrome(sentence):\n",
        "  cleaned_sentence = ''.join(sentence.lower().split())\n",
        "  return cleaned_sentence == cleaned_sentence[::-1]"
      ],
      "metadata": {
        "id": "wLfJWSg5zMCH"
      },
      "execution_count": null,
      "outputs": []
    },
    {
      "cell_type": "code",
      "source": [
        "print(is_palindrome(\"A man a plan a canal Panama\")) #true"
      ],
      "metadata": {
        "colab": {
          "base_uri": "https://localhost:8080/"
        },
        "id": "UAks-fcu1XGy",
        "outputId": "43550571-a808-4549-ab45-33585a336342"
      },
      "execution_count": null,
      "outputs": [
        {
          "output_type": "stream",
          "name": "stdout",
          "text": [
            "True\n"
          ]
        }
      ]
    },
    {
      "cell_type": "markdown",
      "source": [
        "**Explanation**\n",
        "- Convert to lowercase -> sentence.lower()\n",
        "- Remove spaces -> sentence.split() (splits into words) and ''.join(...) (joins without spaces)\n",
        "- Check if reversed string matches the original -> cleaned_sentence == cleaned_sentence[::-1]\n",
        "\n",
        "\n",
        "\n"
      ],
      "metadata": {
        "id": "vZ0SZbv416YV"
      }
    },
    {
      "cell_type": "code",
      "source": [],
      "metadata": {
        "id": "x9-vh9gS_Gsu"
      },
      "execution_count": null,
      "outputs": []
    },
    {
      "cell_type": "markdown",
      "source": [
        "**Exercise 4: Find the Largest Number**\n",
        "\n",
        "Write a Python function that takes a list of numbers and returns the largest number."
      ],
      "metadata": {
        "id": "Eh14c1weGEId"
      }
    },
    {
      "cell_type": "code",
      "source": [
        "def find_largest(numbers):\n",
        "  return max(numbers)"
      ],
      "metadata": {
        "id": "lS1hSDYWJpYF"
      },
      "execution_count": null,
      "outputs": []
    },
    {
      "cell_type": "code",
      "source": [
        "nums = [3, 8, 1, 20, 15]\n",
        "print(\"Largest number:\", find_largest(nums))"
      ],
      "metadata": {
        "colab": {
          "base_uri": "https://localhost:8080/"
        },
        "id": "N1WCgoLZKi05",
        "outputId": "17791c0d-d541-4c82-91b3-beb1bb68c307"
      },
      "execution_count": null,
      "outputs": [
        {
          "output_type": "stream",
          "name": "stdout",
          "text": [
            "Largest number: 20\n"
          ]
        }
      ]
    },
    {
      "cell_type": "code",
      "source": [
        "nums = [10000000000000000, 10000000, 10000000000000000000000000, 100000000000000001]\n",
        "print(\"Largest number:\", find_largest(nums))"
      ],
      "metadata": {
        "colab": {
          "base_uri": "https://localhost:8080/"
        },
        "id": "ayvH4Ew5Kwqp",
        "outputId": "13c741d4-8a13-4162-d3f9-5420eb93c0ef"
      },
      "execution_count": null,
      "outputs": [
        {
          "output_type": "stream",
          "name": "stdout",
          "text": [
            "Largest number: 10000000000000000000000000\n"
          ]
        }
      ]
    },
    {
      "cell_type": "markdown",
      "source": [
        "**Exercise 5: Print a Start Pyramid**\n",
        "\n",
        "Write a Python program to print a pyramid pattern using *.\n",
        "\n",
        "For example, if n = 5, the output should be:"
      ],
      "metadata": {
        "id": "_o0CvqkTLB5i"
      }
    },
    {
      "cell_type": "code",
      "source": [
        "def print_pyramid(n):\n",
        "  for i in range(1, n+1):\n",
        "    print(\" \" * (n - i) + \"*\" * (2*i - 1))"
      ],
      "metadata": {
        "id": "UmIBvWLIM8e4"
      },
      "execution_count": null,
      "outputs": []
    },
    {
      "cell_type": "code",
      "source": [
        "print_pyramid(5)"
      ],
      "metadata": {
        "colab": {
          "base_uri": "https://localhost:8080/"
        },
        "id": "v3Axigr-NXJH",
        "outputId": "38334c12-ee2c-49e0-8e85-7e5513dce6b4"
      },
      "execution_count": null,
      "outputs": [
        {
          "output_type": "stream",
          "name": "stdout",
          "text": [
            "    *\n",
            "   ***\n",
            "  *****\n",
            " *******\n",
            "*********\n"
          ]
        }
      ]
    },
    {
      "cell_type": "code",
      "source": [
        "def print_reverse_pyramid(n):\n",
        "  for i in range(n, 0, -1):\n",
        "    print(\" \" * (n - i) + \"*\" * (2 * i - 1))"
      ],
      "metadata": {
        "id": "rWqdEYkDNZmG"
      },
      "execution_count": null,
      "outputs": []
    },
    {
      "cell_type": "code",
      "source": [
        "print_reverse_pyramid(5)"
      ],
      "metadata": {
        "colab": {
          "base_uri": "https://localhost:8080/"
        },
        "id": "MKJ3mEGUbBB2",
        "outputId": "c6b8e06e-5faa-41f7-a6d0-14e3b3f0d615"
      },
      "execution_count": null,
      "outputs": [
        {
          "output_type": "stream",
          "name": "stdout",
          "text": [
            "*********\n",
            " *******\n",
            "  *****\n",
            "   ***\n",
            "    *\n"
          ]
        }
      ]
    },
    {
      "cell_type": "markdown",
      "source": [
        "**Explanation:**\n",
        "\n",
        "\n",
        "1.   Start with the largest row (n stars) and decrease.\n",
        "2.   Add spaces (n - i) at the beginning to center-align the stars.\n",
        "3.   Decrease the number of * each row (2 * i - 1)\n",
        "\n"
      ],
      "metadata": {
        "id": "y3N8ZecQbPVT"
      }
    },
    {
      "cell_type": "markdown",
      "source": [
        "**Exercise 6: Count Words in a Sentence**\n",
        "\n",
        "Write a function that takes a sentence and count the number of words."
      ],
      "metadata": {
        "id": "hA2ZniFrcL1X"
      }
    },
    {
      "cell_type": "code",
      "source": [
        "def count_words(sentence):\n",
        "  words = sentence.split()\n",
        "  return len (words)"
      ],
      "metadata": {
        "id": "ij8onBItceSH"
      },
      "execution_count": null,
      "outputs": []
    },
    {
      "cell_type": "code",
      "source": [
        "text = \"Day6 is my life\"\n",
        "print(\"Word count:\", count_words(text))"
      ],
      "metadata": {
        "colab": {
          "base_uri": "https://localhost:8080/"
        },
        "id": "FVh_sLEOcppI",
        "outputId": "eafaa687-e81f-40ab-d7d8-ddad8cae730b"
      },
      "execution_count": null,
      "outputs": [
        {
          "output_type": "stream",
          "name": "stdout",
          "text": [
            "Word count: 4\n"
          ]
        }
      ]
    },
    {
      "cell_type": "markdown",
      "source": [
        "**Exercise 7: Scramble a Word**\n",
        "\n",
        "Write a function that shuffles the letters in a word randomly."
      ],
      "metadata": {
        "id": "08H7mPZNc3HS"
      }
    },
    {
      "cell_type": "code",
      "source": [
        "import random"
      ],
      "metadata": {
        "id": "r_ljFKlIdCF-"
      },
      "execution_count": 12,
      "outputs": []
    },
    {
      "cell_type": "code",
      "source": [
        "def scramble_word(word):\n",
        "  word = list(word)\n",
        "  random.shuffle(word)\n",
        "  return \"\".join(word)"
      ],
      "metadata": {
        "id": "OTXpT3EPdDTG"
      },
      "execution_count": 13,
      "outputs": []
    },
    {
      "cell_type": "code",
      "source": [
        "print(scramble_word(\"hello\"))"
      ],
      "metadata": {
        "colab": {
          "base_uri": "https://localhost:8080/"
        },
        "id": "x2rK3vdguM1Y",
        "outputId": "e43c1f42-5882-4dbf-d6ed-3fb5b77f3d8e"
      },
      "execution_count": 14,
      "outputs": [
        {
          "output_type": "stream",
          "name": "stdout",
          "text": [
            "lolhe\n"
          ]
        }
      ]
    },
    {
      "cell_type": "code",
      "source": [],
      "metadata": {
        "id": "vu_sIPV-uUCU"
      },
      "execution_count": null,
      "outputs": []
    }
  ]
}